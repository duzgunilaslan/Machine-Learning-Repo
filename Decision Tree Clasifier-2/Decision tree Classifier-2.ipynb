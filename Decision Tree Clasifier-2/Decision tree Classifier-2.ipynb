{
 "cells": [
  {
   "cell_type": "code",
   "execution_count": 1,
   "id": "78ca31bc",
   "metadata": {},
   "outputs": [],
   "source": [
    "import pandas as pd\n",
    "import numpy as np\n",
    "import matplotlib.pyplot as plt\n",
    "%matplotlib inline"
   ]
  },
  {
   "cell_type": "code",
   "execution_count": 2,
   "id": "989b37fd",
   "metadata": {},
   "outputs": [],
   "source": [
    "#Read dataset\n",
    "data = pd.read_csv(\"car_evaluation.csv\")"
   ]
  },
  {
   "cell_type": "code",
   "execution_count": 3,
   "id": "772cf7df",
   "metadata": {},
   "outputs": [
    {
     "data": {
      "text/plain": [
       "(1727, 7)"
      ]
     },
     "execution_count": 3,
     "metadata": {},
     "output_type": "execute_result"
    }
   ],
   "source": [
    "#control the dataset shape\n",
    "data.shape"
   ]
  },
  {
   "cell_type": "code",
   "execution_count": 4,
   "id": "59d68154",
   "metadata": {},
   "outputs": [
    {
     "data": {
      "text/html": [
       "<div>\n",
       "<style scoped>\n",
       "    .dataframe tbody tr th:only-of-type {\n",
       "        vertical-align: middle;\n",
       "    }\n",
       "\n",
       "    .dataframe tbody tr th {\n",
       "        vertical-align: top;\n",
       "    }\n",
       "\n",
       "    .dataframe thead th {\n",
       "        text-align: right;\n",
       "    }\n",
       "</style>\n",
       "<table border=\"1\" class=\"dataframe\">\n",
       "  <thead>\n",
       "    <tr style=\"text-align: right;\">\n",
       "      <th></th>\n",
       "      <th>vhigh</th>\n",
       "      <th>vhigh.1</th>\n",
       "      <th>2</th>\n",
       "      <th>2.1</th>\n",
       "      <th>small</th>\n",
       "      <th>low</th>\n",
       "      <th>unacc</th>\n",
       "    </tr>\n",
       "  </thead>\n",
       "  <tbody>\n",
       "    <tr>\n",
       "      <th>0</th>\n",
       "      <td>vhigh</td>\n",
       "      <td>vhigh</td>\n",
       "      <td>2</td>\n",
       "      <td>2</td>\n",
       "      <td>small</td>\n",
       "      <td>med</td>\n",
       "      <td>unacc</td>\n",
       "    </tr>\n",
       "    <tr>\n",
       "      <th>1</th>\n",
       "      <td>vhigh</td>\n",
       "      <td>vhigh</td>\n",
       "      <td>2</td>\n",
       "      <td>2</td>\n",
       "      <td>small</td>\n",
       "      <td>high</td>\n",
       "      <td>unacc</td>\n",
       "    </tr>\n",
       "    <tr>\n",
       "      <th>2</th>\n",
       "      <td>vhigh</td>\n",
       "      <td>vhigh</td>\n",
       "      <td>2</td>\n",
       "      <td>2</td>\n",
       "      <td>med</td>\n",
       "      <td>low</td>\n",
       "      <td>unacc</td>\n",
       "    </tr>\n",
       "    <tr>\n",
       "      <th>3</th>\n",
       "      <td>vhigh</td>\n",
       "      <td>vhigh</td>\n",
       "      <td>2</td>\n",
       "      <td>2</td>\n",
       "      <td>med</td>\n",
       "      <td>med</td>\n",
       "      <td>unacc</td>\n",
       "    </tr>\n",
       "    <tr>\n",
       "      <th>4</th>\n",
       "      <td>vhigh</td>\n",
       "      <td>vhigh</td>\n",
       "      <td>2</td>\n",
       "      <td>2</td>\n",
       "      <td>med</td>\n",
       "      <td>high</td>\n",
       "      <td>unacc</td>\n",
       "    </tr>\n",
       "  </tbody>\n",
       "</table>\n",
       "</div>"
      ],
      "text/plain": [
       "   vhigh vhigh.1  2 2.1  small   low  unacc\n",
       "0  vhigh   vhigh  2   2  small   med  unacc\n",
       "1  vhigh   vhigh  2   2  small  high  unacc\n",
       "2  vhigh   vhigh  2   2    med   low  unacc\n",
       "3  vhigh   vhigh  2   2    med   med  unacc\n",
       "4  vhigh   vhigh  2   2    med  high  unacc"
      ]
     },
     "execution_count": 4,
     "metadata": {},
     "output_type": "execute_result"
    }
   ],
   "source": [
    "data.head()"
   ]
  },
  {
   "cell_type": "code",
   "execution_count": 5,
   "id": "9eaed299",
   "metadata": {},
   "outputs": [],
   "source": [
    "#replace the colum name\n",
    "column_names = [\"buying\", \"maint\", \"doors\", \"persons\", \"lug_boot\", \"safety\", \"class\"]\n",
    "data.columns = column_names"
   ]
  },
  {
   "cell_type": "code",
   "execution_count": 6,
   "id": "2969bbd6",
   "metadata": {},
   "outputs": [
    {
     "data": {
      "text/html": [
       "<div>\n",
       "<style scoped>\n",
       "    .dataframe tbody tr th:only-of-type {\n",
       "        vertical-align: middle;\n",
       "    }\n",
       "\n",
       "    .dataframe tbody tr th {\n",
       "        vertical-align: top;\n",
       "    }\n",
       "\n",
       "    .dataframe thead th {\n",
       "        text-align: right;\n",
       "    }\n",
       "</style>\n",
       "<table border=\"1\" class=\"dataframe\">\n",
       "  <thead>\n",
       "    <tr style=\"text-align: right;\">\n",
       "      <th></th>\n",
       "      <th>buying</th>\n",
       "      <th>maint</th>\n",
       "      <th>doors</th>\n",
       "      <th>persons</th>\n",
       "      <th>lug_boot</th>\n",
       "      <th>safety</th>\n",
       "      <th>class</th>\n",
       "    </tr>\n",
       "  </thead>\n",
       "  <tbody>\n",
       "    <tr>\n",
       "      <th>0</th>\n",
       "      <td>vhigh</td>\n",
       "      <td>vhigh</td>\n",
       "      <td>2</td>\n",
       "      <td>2</td>\n",
       "      <td>small</td>\n",
       "      <td>med</td>\n",
       "      <td>unacc</td>\n",
       "    </tr>\n",
       "    <tr>\n",
       "      <th>1</th>\n",
       "      <td>vhigh</td>\n",
       "      <td>vhigh</td>\n",
       "      <td>2</td>\n",
       "      <td>2</td>\n",
       "      <td>small</td>\n",
       "      <td>high</td>\n",
       "      <td>unacc</td>\n",
       "    </tr>\n",
       "    <tr>\n",
       "      <th>2</th>\n",
       "      <td>vhigh</td>\n",
       "      <td>vhigh</td>\n",
       "      <td>2</td>\n",
       "      <td>2</td>\n",
       "      <td>med</td>\n",
       "      <td>low</td>\n",
       "      <td>unacc</td>\n",
       "    </tr>\n",
       "    <tr>\n",
       "      <th>3</th>\n",
       "      <td>vhigh</td>\n",
       "      <td>vhigh</td>\n",
       "      <td>2</td>\n",
       "      <td>2</td>\n",
       "      <td>med</td>\n",
       "      <td>med</td>\n",
       "      <td>unacc</td>\n",
       "    </tr>\n",
       "    <tr>\n",
       "      <th>4</th>\n",
       "      <td>vhigh</td>\n",
       "      <td>vhigh</td>\n",
       "      <td>2</td>\n",
       "      <td>2</td>\n",
       "      <td>med</td>\n",
       "      <td>high</td>\n",
       "      <td>unacc</td>\n",
       "    </tr>\n",
       "    <tr>\n",
       "      <th>...</th>\n",
       "      <td>...</td>\n",
       "      <td>...</td>\n",
       "      <td>...</td>\n",
       "      <td>...</td>\n",
       "      <td>...</td>\n",
       "      <td>...</td>\n",
       "      <td>...</td>\n",
       "    </tr>\n",
       "    <tr>\n",
       "      <th>1722</th>\n",
       "      <td>low</td>\n",
       "      <td>low</td>\n",
       "      <td>5more</td>\n",
       "      <td>more</td>\n",
       "      <td>med</td>\n",
       "      <td>med</td>\n",
       "      <td>good</td>\n",
       "    </tr>\n",
       "    <tr>\n",
       "      <th>1723</th>\n",
       "      <td>low</td>\n",
       "      <td>low</td>\n",
       "      <td>5more</td>\n",
       "      <td>more</td>\n",
       "      <td>med</td>\n",
       "      <td>high</td>\n",
       "      <td>vgood</td>\n",
       "    </tr>\n",
       "    <tr>\n",
       "      <th>1724</th>\n",
       "      <td>low</td>\n",
       "      <td>low</td>\n",
       "      <td>5more</td>\n",
       "      <td>more</td>\n",
       "      <td>big</td>\n",
       "      <td>low</td>\n",
       "      <td>unacc</td>\n",
       "    </tr>\n",
       "    <tr>\n",
       "      <th>1725</th>\n",
       "      <td>low</td>\n",
       "      <td>low</td>\n",
       "      <td>5more</td>\n",
       "      <td>more</td>\n",
       "      <td>big</td>\n",
       "      <td>med</td>\n",
       "      <td>good</td>\n",
       "    </tr>\n",
       "    <tr>\n",
       "      <th>1726</th>\n",
       "      <td>low</td>\n",
       "      <td>low</td>\n",
       "      <td>5more</td>\n",
       "      <td>more</td>\n",
       "      <td>big</td>\n",
       "      <td>high</td>\n",
       "      <td>vgood</td>\n",
       "    </tr>\n",
       "  </tbody>\n",
       "</table>\n",
       "<p>1727 rows × 7 columns</p>\n",
       "</div>"
      ],
      "text/plain": [
       "     buying  maint  doors persons lug_boot safety  class\n",
       "0     vhigh  vhigh      2       2    small    med  unacc\n",
       "1     vhigh  vhigh      2       2    small   high  unacc\n",
       "2     vhigh  vhigh      2       2      med    low  unacc\n",
       "3     vhigh  vhigh      2       2      med    med  unacc\n",
       "4     vhigh  vhigh      2       2      med   high  unacc\n",
       "...     ...    ...    ...     ...      ...    ...    ...\n",
       "1722    low    low  5more    more      med    med   good\n",
       "1723    low    low  5more    more      med   high  vgood\n",
       "1724    low    low  5more    more      big    low  unacc\n",
       "1725    low    low  5more    more      big    med   good\n",
       "1726    low    low  5more    more      big   high  vgood\n",
       "\n",
       "[1727 rows x 7 columns]"
      ]
     },
     "execution_count": 6,
     "metadata": {},
     "output_type": "execute_result"
    }
   ],
   "source": [
    "data"
   ]
  },
  {
   "cell_type": "code",
   "execution_count": 7,
   "id": "74e42c2b",
   "metadata": {},
   "outputs": [
    {
     "name": "stdout",
     "output_type": "stream",
     "text": [
      "<class 'pandas.core.frame.DataFrame'>\n",
      "RangeIndex: 1727 entries, 0 to 1726\n",
      "Data columns (total 7 columns):\n",
      " #   Column    Non-Null Count  Dtype \n",
      "---  ------    --------------  ----- \n",
      " 0   buying    1727 non-null   object\n",
      " 1   maint     1727 non-null   object\n",
      " 2   doors     1727 non-null   object\n",
      " 3   persons   1727 non-null   object\n",
      " 4   lug_boot  1727 non-null   object\n",
      " 5   safety    1727 non-null   object\n",
      " 6   class     1727 non-null   object\n",
      "dtypes: object(7)\n",
      "memory usage: 94.6+ KB\n"
     ]
    }
   ],
   "source": [
    "#summary of the dataset\n",
    "data.info()"
   ]
  },
  {
   "cell_type": "code",
   "execution_count": 8,
   "id": "ac41fff3",
   "metadata": {},
   "outputs": [
    {
     "name": "stdout",
     "output_type": "stream",
     "text": [
      "high     432\n",
      "med      432\n",
      "low      432\n",
      "vhigh    431\n",
      "Name: buying, dtype: int64\n",
      "high     432\n",
      "med      432\n",
      "low      432\n",
      "vhigh    431\n",
      "Name: maint, dtype: int64\n",
      "3        432\n",
      "4        432\n",
      "5more    432\n",
      "2        431\n",
      "Name: doors, dtype: int64\n",
      "4       576\n",
      "more    576\n",
      "2       575\n",
      "Name: persons, dtype: int64\n",
      "med      576\n",
      "big      576\n",
      "small    575\n",
      "Name: lug_boot, dtype: int64\n",
      "med     576\n",
      "high    576\n",
      "low     575\n",
      "Name: safety, dtype: int64\n",
      "unacc    1209\n",
      "acc       384\n",
      "good       69\n",
      "vgood      65\n",
      "Name: class, dtype: int64\n"
     ]
    }
   ],
   "source": [
    "#check the frewuency count of catagorical variables\n",
    "for column in column_names:\n",
    "    print(data[column].value_counts())"
   ]
  },
  {
   "cell_type": "code",
   "execution_count": 9,
   "id": "5837fc21",
   "metadata": {},
   "outputs": [
    {
     "data": {
      "text/plain": [
       "unacc    1209\n",
       "acc       384\n",
       "good       69\n",
       "vgood      65\n",
       "Name: class, dtype: int64"
      ]
     },
     "execution_count": 9,
     "metadata": {},
     "output_type": "execute_result"
    }
   ],
   "source": [
    "#class is our target variables\n",
    "data[\"class\"].value_counts()"
   ]
  },
  {
   "cell_type": "code",
   "execution_count": 10,
   "id": "bf67eddf",
   "metadata": {},
   "outputs": [],
   "source": [
    "# to separate the dataset into two main pieces\n",
    "X = data.drop([\"class\"], axis = 1)\n",
    "y = data[\"class\"]"
   ]
  },
  {
   "cell_type": "code",
   "execution_count": 11,
   "id": "f074942e",
   "metadata": {},
   "outputs": [
    {
     "data": {
      "text/html": [
       "<div>\n",
       "<style scoped>\n",
       "    .dataframe tbody tr th:only-of-type {\n",
       "        vertical-align: middle;\n",
       "    }\n",
       "\n",
       "    .dataframe tbody tr th {\n",
       "        vertical-align: top;\n",
       "    }\n",
       "\n",
       "    .dataframe thead th {\n",
       "        text-align: right;\n",
       "    }\n",
       "</style>\n",
       "<table border=\"1\" class=\"dataframe\">\n",
       "  <thead>\n",
       "    <tr style=\"text-align: right;\">\n",
       "      <th></th>\n",
       "      <th>buying</th>\n",
       "      <th>maint</th>\n",
       "      <th>doors</th>\n",
       "      <th>persons</th>\n",
       "      <th>lug_boot</th>\n",
       "      <th>safety</th>\n",
       "    </tr>\n",
       "  </thead>\n",
       "  <tbody>\n",
       "    <tr>\n",
       "      <th>0</th>\n",
       "      <td>vhigh</td>\n",
       "      <td>vhigh</td>\n",
       "      <td>2</td>\n",
       "      <td>2</td>\n",
       "      <td>small</td>\n",
       "      <td>med</td>\n",
       "    </tr>\n",
       "    <tr>\n",
       "      <th>1</th>\n",
       "      <td>vhigh</td>\n",
       "      <td>vhigh</td>\n",
       "      <td>2</td>\n",
       "      <td>2</td>\n",
       "      <td>small</td>\n",
       "      <td>high</td>\n",
       "    </tr>\n",
       "    <tr>\n",
       "      <th>2</th>\n",
       "      <td>vhigh</td>\n",
       "      <td>vhigh</td>\n",
       "      <td>2</td>\n",
       "      <td>2</td>\n",
       "      <td>med</td>\n",
       "      <td>low</td>\n",
       "    </tr>\n",
       "    <tr>\n",
       "      <th>3</th>\n",
       "      <td>vhigh</td>\n",
       "      <td>vhigh</td>\n",
       "      <td>2</td>\n",
       "      <td>2</td>\n",
       "      <td>med</td>\n",
       "      <td>med</td>\n",
       "    </tr>\n",
       "    <tr>\n",
       "      <th>4</th>\n",
       "      <td>vhigh</td>\n",
       "      <td>vhigh</td>\n",
       "      <td>2</td>\n",
       "      <td>2</td>\n",
       "      <td>med</td>\n",
       "      <td>high</td>\n",
       "    </tr>\n",
       "    <tr>\n",
       "      <th>...</th>\n",
       "      <td>...</td>\n",
       "      <td>...</td>\n",
       "      <td>...</td>\n",
       "      <td>...</td>\n",
       "      <td>...</td>\n",
       "      <td>...</td>\n",
       "    </tr>\n",
       "    <tr>\n",
       "      <th>1722</th>\n",
       "      <td>low</td>\n",
       "      <td>low</td>\n",
       "      <td>5more</td>\n",
       "      <td>more</td>\n",
       "      <td>med</td>\n",
       "      <td>med</td>\n",
       "    </tr>\n",
       "    <tr>\n",
       "      <th>1723</th>\n",
       "      <td>low</td>\n",
       "      <td>low</td>\n",
       "      <td>5more</td>\n",
       "      <td>more</td>\n",
       "      <td>med</td>\n",
       "      <td>high</td>\n",
       "    </tr>\n",
       "    <tr>\n",
       "      <th>1724</th>\n",
       "      <td>low</td>\n",
       "      <td>low</td>\n",
       "      <td>5more</td>\n",
       "      <td>more</td>\n",
       "      <td>big</td>\n",
       "      <td>low</td>\n",
       "    </tr>\n",
       "    <tr>\n",
       "      <th>1725</th>\n",
       "      <td>low</td>\n",
       "      <td>low</td>\n",
       "      <td>5more</td>\n",
       "      <td>more</td>\n",
       "      <td>big</td>\n",
       "      <td>med</td>\n",
       "    </tr>\n",
       "    <tr>\n",
       "      <th>1726</th>\n",
       "      <td>low</td>\n",
       "      <td>low</td>\n",
       "      <td>5more</td>\n",
       "      <td>more</td>\n",
       "      <td>big</td>\n",
       "      <td>high</td>\n",
       "    </tr>\n",
       "  </tbody>\n",
       "</table>\n",
       "<p>1727 rows × 6 columns</p>\n",
       "</div>"
      ],
      "text/plain": [
       "     buying  maint  doors persons lug_boot safety\n",
       "0     vhigh  vhigh      2       2    small    med\n",
       "1     vhigh  vhigh      2       2    small   high\n",
       "2     vhigh  vhigh      2       2      med    low\n",
       "3     vhigh  vhigh      2       2      med    med\n",
       "4     vhigh  vhigh      2       2      med   high\n",
       "...     ...    ...    ...     ...      ...    ...\n",
       "1722    low    low  5more    more      med    med\n",
       "1723    low    low  5more    more      med   high\n",
       "1724    low    low  5more    more      big    low\n",
       "1725    low    low  5more    more      big    med\n",
       "1726    low    low  5more    more      big   high\n",
       "\n",
       "[1727 rows x 6 columns]"
      ]
     },
     "execution_count": 11,
     "metadata": {},
     "output_type": "execute_result"
    }
   ],
   "source": [
    "X"
   ]
  },
  {
   "cell_type": "code",
   "execution_count": 12,
   "id": "e048750d",
   "metadata": {},
   "outputs": [],
   "source": [
    "#Split data into separate training and test set \n",
    "from sklearn.model_selection import train_test_split\n",
    "X_train, X_test, y_train, y_test = train_test_split(X,y, test_size=0.2, stratify=y, shuffle=True, random_state= 42)"
   ]
  },
  {
   "cell_type": "code",
   "execution_count": 13,
   "id": "29c5054f",
   "metadata": {},
   "outputs": [
    {
     "data": {
      "text/plain": [
       "((1381, 6), (346, 6))"
      ]
     },
     "execution_count": 13,
     "metadata": {},
     "output_type": "execute_result"
    }
   ],
   "source": [
    "# check the shape of X_train and X_test\n",
    "\n",
    "X_train.shape, X_test.shape"
   ]
  },
  {
   "cell_type": "code",
   "execution_count": 16,
   "id": "712dfed9",
   "metadata": {},
   "outputs": [],
   "source": [
    "# Encode the dataset\n",
    "from category_encoders import OrdinalEncoder"
   ]
  },
  {
   "cell_type": "code",
   "execution_count": 17,
   "id": "af9a0151",
   "metadata": {},
   "outputs": [
    {
     "name": "stderr",
     "output_type": "stream",
     "text": [
      "C:\\Users\\RAKORT\\anaconda3\\envs\\newenv\\lib\\site-packages\\category_encoders\\utils.py:21: FutureWarning: is_categorical is deprecated and will be removed in a future version.  Use is_categorical_dtype instead\n",
      "  elif pd.api.types.is_categorical(cols):\n"
     ]
    }
   ],
   "source": [
    "encoder = OrdinalEncoder(cols=[\"buying\", \"maint\", \"doors\", \"persons\", \"lug_boot\", \"safety\"])\n",
    "\n",
    "X_train = encoder.fit_transform(X_train)\n",
    "X_test = encoder.transform(X_test)"
   ]
  },
  {
   "cell_type": "code",
   "execution_count": 18,
   "id": "38912b82",
   "metadata": {},
   "outputs": [
    {
     "data": {
      "text/html": [
       "<div>\n",
       "<style scoped>\n",
       "    .dataframe tbody tr th:only-of-type {\n",
       "        vertical-align: middle;\n",
       "    }\n",
       "\n",
       "    .dataframe tbody tr th {\n",
       "        vertical-align: top;\n",
       "    }\n",
       "\n",
       "    .dataframe thead th {\n",
       "        text-align: right;\n",
       "    }\n",
       "</style>\n",
       "<table border=\"1\" class=\"dataframe\">\n",
       "  <thead>\n",
       "    <tr style=\"text-align: right;\">\n",
       "      <th></th>\n",
       "      <th>buying</th>\n",
       "      <th>maint</th>\n",
       "      <th>doors</th>\n",
       "      <th>persons</th>\n",
       "      <th>lug_boot</th>\n",
       "      <th>safety</th>\n",
       "    </tr>\n",
       "  </thead>\n",
       "  <tbody>\n",
       "    <tr>\n",
       "      <th>1695</th>\n",
       "      <td>2</td>\n",
       "      <td>3</td>\n",
       "      <td>4</td>\n",
       "      <td>3</td>\n",
       "      <td>1</td>\n",
       "      <td>1</td>\n",
       "    </tr>\n",
       "    <tr>\n",
       "      <th>908</th>\n",
       "      <td>1</td>\n",
       "      <td>4</td>\n",
       "      <td>1</td>\n",
       "      <td>3</td>\n",
       "      <td>2</td>\n",
       "      <td>3</td>\n",
       "    </tr>\n",
       "    <tr>\n",
       "      <th>524</th>\n",
       "      <td>3</td>\n",
       "      <td>4</td>\n",
       "      <td>2</td>\n",
       "      <td>1</td>\n",
       "      <td>1</td>\n",
       "      <td>3</td>\n",
       "    </tr>\n",
       "    <tr>\n",
       "      <th>1080</th>\n",
       "      <td>1</td>\n",
       "      <td>1</td>\n",
       "      <td>3</td>\n",
       "      <td>2</td>\n",
       "      <td>2</td>\n",
       "      <td>1</td>\n",
       "    </tr>\n",
       "    <tr>\n",
       "      <th>592</th>\n",
       "      <td>3</td>\n",
       "      <td>2</td>\n",
       "      <td>1</td>\n",
       "      <td>3</td>\n",
       "      <td>3</td>\n",
       "      <td>2</td>\n",
       "    </tr>\n",
       "    <tr>\n",
       "      <th>...</th>\n",
       "      <td>...</td>\n",
       "      <td>...</td>\n",
       "      <td>...</td>\n",
       "      <td>...</td>\n",
       "      <td>...</td>\n",
       "      <td>...</td>\n",
       "    </tr>\n",
       "    <tr>\n",
       "      <th>1658</th>\n",
       "      <td>2</td>\n",
       "      <td>3</td>\n",
       "      <td>1</td>\n",
       "      <td>1</td>\n",
       "      <td>1</td>\n",
       "      <td>3</td>\n",
       "    </tr>\n",
       "    <tr>\n",
       "      <th>265</th>\n",
       "      <td>4</td>\n",
       "      <td>1</td>\n",
       "      <td>1</td>\n",
       "      <td>3</td>\n",
       "      <td>1</td>\n",
       "      <td>2</td>\n",
       "    </tr>\n",
       "    <tr>\n",
       "      <th>387</th>\n",
       "      <td>4</td>\n",
       "      <td>3</td>\n",
       "      <td>4</td>\n",
       "      <td>1</td>\n",
       "      <td>2</td>\n",
       "      <td>1</td>\n",
       "    </tr>\n",
       "    <tr>\n",
       "      <th>1114</th>\n",
       "      <td>1</td>\n",
       "      <td>1</td>\n",
       "      <td>1</td>\n",
       "      <td>2</td>\n",
       "      <td>3</td>\n",
       "      <td>2</td>\n",
       "    </tr>\n",
       "    <tr>\n",
       "      <th>1421</th>\n",
       "      <td>2</td>\n",
       "      <td>2</td>\n",
       "      <td>3</td>\n",
       "      <td>3</td>\n",
       "      <td>2</td>\n",
       "      <td>3</td>\n",
       "    </tr>\n",
       "  </tbody>\n",
       "</table>\n",
       "<p>346 rows × 6 columns</p>\n",
       "</div>"
      ],
      "text/plain": [
       "      buying  maint  doors  persons  lug_boot  safety\n",
       "1695       2      3      4        3         1       1\n",
       "908        1      4      1        3         2       3\n",
       "524        3      4      2        1         1       3\n",
       "1080       1      1      3        2         2       1\n",
       "592        3      2      1        3         3       2\n",
       "...      ...    ...    ...      ...       ...     ...\n",
       "1658       2      3      1        1         1       3\n",
       "265        4      1      1        3         1       2\n",
       "387        4      3      4        1         2       1\n",
       "1114       1      1      1        2         3       2\n",
       "1421       2      2      3        3         2       3\n",
       "\n",
       "[346 rows x 6 columns]"
      ]
     },
     "execution_count": 18,
     "metadata": {},
     "output_type": "execute_result"
    }
   ],
   "source": [
    "X_test"
   ]
  },
  {
   "cell_type": "code",
   "execution_count": 19,
   "id": "1eb0a10e",
   "metadata": {},
   "outputs": [
    {
     "data": {
      "text/html": [
       "<div>\n",
       "<style scoped>\n",
       "    .dataframe tbody tr th:only-of-type {\n",
       "        vertical-align: middle;\n",
       "    }\n",
       "\n",
       "    .dataframe tbody tr th {\n",
       "        vertical-align: top;\n",
       "    }\n",
       "\n",
       "    .dataframe thead th {\n",
       "        text-align: right;\n",
       "    }\n",
       "</style>\n",
       "<table border=\"1\" class=\"dataframe\">\n",
       "  <thead>\n",
       "    <tr style=\"text-align: right;\">\n",
       "      <th></th>\n",
       "      <th>buying</th>\n",
       "      <th>maint</th>\n",
       "      <th>doors</th>\n",
       "      <th>persons</th>\n",
       "      <th>lug_boot</th>\n",
       "      <th>safety</th>\n",
       "    </tr>\n",
       "  </thead>\n",
       "  <tbody>\n",
       "    <tr>\n",
       "      <th>1119</th>\n",
       "      <td>1</td>\n",
       "      <td>1</td>\n",
       "      <td>1</td>\n",
       "      <td>1</td>\n",
       "      <td>1</td>\n",
       "      <td>1</td>\n",
       "    </tr>\n",
       "    <tr>\n",
       "      <th>999</th>\n",
       "      <td>1</td>\n",
       "      <td>2</td>\n",
       "      <td>1</td>\n",
       "      <td>2</td>\n",
       "      <td>2</td>\n",
       "      <td>1</td>\n",
       "    </tr>\n",
       "    <tr>\n",
       "      <th>1503</th>\n",
       "      <td>2</td>\n",
       "      <td>2</td>\n",
       "      <td>2</td>\n",
       "      <td>3</td>\n",
       "      <td>2</td>\n",
       "      <td>1</td>\n",
       "    </tr>\n",
       "    <tr>\n",
       "      <th>1201</th>\n",
       "      <td>1</td>\n",
       "      <td>3</td>\n",
       "      <td>3</td>\n",
       "      <td>1</td>\n",
       "      <td>1</td>\n",
       "      <td>2</td>\n",
       "    </tr>\n",
       "    <tr>\n",
       "      <th>1354</th>\n",
       "      <td>2</td>\n",
       "      <td>4</td>\n",
       "      <td>4</td>\n",
       "      <td>2</td>\n",
       "      <td>1</td>\n",
       "      <td>2</td>\n",
       "    </tr>\n",
       "    <tr>\n",
       "      <th>...</th>\n",
       "      <td>...</td>\n",
       "      <td>...</td>\n",
       "      <td>...</td>\n",
       "      <td>...</td>\n",
       "      <td>...</td>\n",
       "      <td>...</td>\n",
       "    </tr>\n",
       "    <tr>\n",
       "      <th>83</th>\n",
       "      <td>4</td>\n",
       "      <td>4</td>\n",
       "      <td>2</td>\n",
       "      <td>2</td>\n",
       "      <td>1</td>\n",
       "      <td>3</td>\n",
       "    </tr>\n",
       "    <tr>\n",
       "      <th>212</th>\n",
       "      <td>4</td>\n",
       "      <td>2</td>\n",
       "      <td>2</td>\n",
       "      <td>3</td>\n",
       "      <td>3</td>\n",
       "      <td>3</td>\n",
       "    </tr>\n",
       "    <tr>\n",
       "      <th>1303</th>\n",
       "      <td>2</td>\n",
       "      <td>4</td>\n",
       "      <td>3</td>\n",
       "      <td>2</td>\n",
       "      <td>3</td>\n",
       "      <td>2</td>\n",
       "    </tr>\n",
       "    <tr>\n",
       "      <th>311</th>\n",
       "      <td>4</td>\n",
       "      <td>1</td>\n",
       "      <td>2</td>\n",
       "      <td>1</td>\n",
       "      <td>3</td>\n",
       "      <td>3</td>\n",
       "    </tr>\n",
       "    <tr>\n",
       "      <th>1254</th>\n",
       "      <td>1</td>\n",
       "      <td>3</td>\n",
       "      <td>4</td>\n",
       "      <td>1</td>\n",
       "      <td>1</td>\n",
       "      <td>1</td>\n",
       "    </tr>\n",
       "  </tbody>\n",
       "</table>\n",
       "<p>1381 rows × 6 columns</p>\n",
       "</div>"
      ],
      "text/plain": [
       "      buying  maint  doors  persons  lug_boot  safety\n",
       "1119       1      1      1        1         1       1\n",
       "999        1      2      1        2         2       1\n",
       "1503       2      2      2        3         2       1\n",
       "1201       1      3      3        1         1       2\n",
       "1354       2      4      4        2         1       2\n",
       "...      ...    ...    ...      ...       ...     ...\n",
       "83         4      4      2        2         1       3\n",
       "212        4      2      2        3         3       3\n",
       "1303       2      4      3        2         3       2\n",
       "311        4      1      2        1         3       3\n",
       "1254       1      3      4        1         1       1\n",
       "\n",
       "[1381 rows x 6 columns]"
      ]
     },
     "execution_count": 19,
     "metadata": {},
     "output_type": "execute_result"
    }
   ],
   "source": [
    "X_train"
   ]
  },
  {
   "cell_type": "code",
   "execution_count": 63,
   "id": "1a99e73c",
   "metadata": {},
   "outputs": [],
   "source": [
    "# Crate and train model \n",
    "from sklearn.tree import DecisionTreeClassifier\n",
    "# first we train with \"gini index\" criterion\n",
    "model = DecisionTreeClassifier(criterion=\"gini\", max_depth=3, random_state=0).fit(X_train, y_train)"
   ]
  },
  {
   "cell_type": "code",
   "execution_count": 64,
   "id": "0eab3a81",
   "metadata": {},
   "outputs": [],
   "source": [
    "predict = model.predict(X_test)"
   ]
  },
  {
   "cell_type": "code",
   "execution_count": 65,
   "id": "8c322f8c",
   "metadata": {},
   "outputs": [
    {
     "name": "stdout",
     "output_type": "stream",
     "text": [
      "Model accuracy score with criterion Gini Index: 0.8092\n"
     ]
    }
   ],
   "source": [
    "# Check the Model accuracy metrics\n",
    "from sklearn.metrics import accuracy_score\n",
    "\n",
    "print(\"Model accuracy score with criterion Gini Index: {0:0.4F}\".format(accuracy_score(y_test, predict)))"
   ]
  },
  {
   "cell_type": "code",
   "execution_count": 66,
   "id": "a0a6a5c4",
   "metadata": {},
   "outputs": [
    {
     "name": "stdout",
     "output_type": "stream",
     "text": [
      "Train set accuracy:0.7784\n"
     ]
    }
   ],
   "source": [
    "# Compare the train set and test set accuracy\n",
    "\n",
    "train_predict = model.predict(X_train)\n",
    "print(\"Train set accuracy:{0:0.4f}\".format(accuracy_score(y_train, train_predict)))"
   ]
  },
  {
   "cell_type": "code",
   "execution_count": 67,
   "id": "6e438ab0",
   "metadata": {},
   "outputs": [
    {
     "name": "stdout",
     "output_type": "stream",
     "text": [
      "Training set score: 0.7784\n",
      "Test set score: 0.8092\n"
     ]
    }
   ],
   "source": [
    "# print the scores on training and test set\n",
    "\n",
    "print('Training set score: {:.4f}'.format(model.score(X_train, y_train)))\n",
    "\n",
    "print('Test set score: {:.4f}'.format(model.score(X_test, y_test)))"
   ]
  },
  {
   "cell_type": "markdown",
   "id": "b0188819",
   "metadata": {},
   "source": [
    "There is no over fitting "
   ]
  },
  {
   "cell_type": "code",
   "execution_count": 80,
   "id": "919d7d46",
   "metadata": {},
   "outputs": [
    {
     "data": {
      "text/plain": [
       "[Text(418.5, 380.52, 'X[5] <= 2.5\\ngini = 0.457\\nsamples = 1381\\nvalue = [307, 55, 967, 52]'),\n",
       " Text(334.8, 271.8, 'X[3] <= 1.5\\ngini = 0.58\\nsamples = 919\\nvalue = [307, 55, 505, 52]'),\n",
       " Text(167.4, 163.07999999999998, 'X[0] <= 2.5\\ngini = 0.617\\nsamples = 301\\nvalue = [157, 27, 94, 23]'),\n",
       " Text(83.7, 54.360000000000014, 'gini = 0.622\\nsamples = 149\\nvalue = [83, 27, 16, 23]'),\n",
       " Text(251.10000000000002, 54.360000000000014, 'gini = 0.5\\nsamples = 152\\nvalue = [74, 0, 78, 0]'),\n",
       " Text(502.20000000000005, 163.07999999999998, 'X[3] <= 2.5\\ngini = 0.495\\nsamples = 618\\nvalue = [150, 28, 411, 29]'),\n",
       " Text(418.5, 54.360000000000014, 'gini = 0.0\\nsamples = 302\\nvalue = [0, 0, 302, 0]'),\n",
       " Text(585.9, 54.360000000000014, 'gini = 0.639\\nsamples = 316\\nvalue = [150, 28, 109, 29]'),\n",
       " Text(502.20000000000005, 271.8, 'gini = 0.0\\nsamples = 462\\nvalue = [0, 0, 462, 0]')]"
      ]
     },
     "execution_count": 80,
     "metadata": {},
     "output_type": "execute_result"
    },
    {
     "data": {
      "image/png": "[encoded data removed]",
      "text/plain": [
       "<Figure size 864x576 with 1 Axes>"
      ]
     },
     "metadata": {
      "needs_background": "light"
     },
     "output_type": "display_data"
    }
   ],
   "source": [
    "# Visualize the Decision Tree\n",
    "plt.figure(figsize=(12,8))\n",
    "from sklearn import tree\n",
    "tree.plot_tree(model.fit(X_train, y_train))"
   ]
  },
  {
   "cell_type": "code",
   "execution_count": 82,
   "id": "77880971",
   "metadata": {},
   "outputs": [
    {
     "data": {
      "image/svg+xml": [
       "<?xml version=\"1.0\" encoding=\"UTF-8\" standalone=\"no\"?>\r\n",
       "<!DOCTYPE svg PUBLIC \"-//W3C//DTD SVG 1.1//EN\"\r\n",
       " \"http://www.w3.org/Graphics/SVG/1.1/DTD/svg11.dtd\">\r\n",
       "<!-- Generated by graphviz version 2.38.0 (20140413.2041)\r\n",
       " -->\r\n",
       "<!-- Title: Tree Pages: 1 -->\r\n",
       "<svg width=\"647pt\" height=\"433pt\"\r\n",
       " viewBox=\"0.00 0.00 647.00 433.00\" xmlns=\"http://www.w3.org/2000/svg\" xmlns:xlink=\"http://www.w3.org/1999/xlink\">\r\n",
       "<g id=\"graph0\" class=\"graph\" transform=\"scale(1 1) rotate(0) translate(4 429)\">\r\n",
       "<title>Tree</title>\r\n",
       "<polygon fill=\"white\" stroke=\"none\" points=\"-4,4 -4,-429 643,-429 643,4 -4,4\"/>\r\n",
       "<!-- 0 -->\r\n",
       "<g id=\"node1\" class=\"node\"><title>0</title>\r\n",
       "<polygon fill=\"#85c3ef\" stroke=\"black\" points=\"474,-425 314,-425 314,-342 474,-342 474,-425\"/>\r\n",
       "<text text-anchor=\"middle\" x=\"394\" y=\"-409.8\" font-family=\"Times New Roman,serif\" font-size=\"14.00\">safety &lt;= 2.5</text>\r\n",
       "<text text-anchor=\"middle\" x=\"394\" y=\"-394.8\" font-family=\"Times New Roman,serif\" font-size=\"14.00\">gini = 0.457</text>\r\n",
       "<text text-anchor=\"middle\" x=\"394\" y=\"-379.8\" font-family=\"Times New Roman,serif\" font-size=\"14.00\">samples = 1381</text>\r\n",
       "<text text-anchor=\"middle\" x=\"394\" y=\"-364.8\" font-family=\"Times New Roman,serif\" font-size=\"14.00\">value = [307, 55, 967, 52]</text>\r\n",
       "<text text-anchor=\"middle\" x=\"394\" y=\"-349.8\" font-family=\"Times New Roman,serif\" font-size=\"14.00\">class = good</text>\r\n",
       "</g>\r\n",
       "<!-- 1 -->\r\n",
       "<g id=\"node2\" class=\"node\"><title>1</title>\r\n",
       "<polygon fill=\"#bfdff7\" stroke=\"black\" points=\"392,-306 232,-306 232,-223 392,-223 392,-306\"/>\r\n",
       "<text text-anchor=\"middle\" x=\"312\" y=\"-290.8\" font-family=\"Times New Roman,serif\" font-size=\"14.00\">persons &lt;= 1.5</text>\r\n",
       "<text text-anchor=\"middle\" x=\"312\" y=\"-275.8\" font-family=\"Times New Roman,serif\" font-size=\"14.00\">gini = 0.58</text>\r\n",
       "<text text-anchor=\"middle\" x=\"312\" y=\"-260.8\" font-family=\"Times New Roman,serif\" font-size=\"14.00\">samples = 919</text>\r\n",
       "<text text-anchor=\"middle\" x=\"312\" y=\"-245.8\" font-family=\"Times New Roman,serif\" font-size=\"14.00\">value = [307, 55, 505, 52]</text>\r\n",
       "<text text-anchor=\"middle\" x=\"312\" y=\"-230.8\" font-family=\"Times New Roman,serif\" font-size=\"14.00\">class = good</text>\r\n",
       "</g>\r\n",
       "<!-- 0&#45;&gt;1 -->\r\n",
       "<g id=\"edge1\" class=\"edge\"><title>0&#45;&gt;1</title>\r\n",
       "<path fill=\"none\" stroke=\"black\" d=\"M365.551,-341.907C359.317,-333.014 352.656,-323.509 346.223,-314.331\"/>\r\n",
       "<polygon fill=\"black\" stroke=\"black\" points=\"349.005,-312.201 340.399,-306.021 343.272,-316.219 349.005,-312.201\"/>\r\n",
       "<text text-anchor=\"middle\" x=\"336.069\" y=\"-326.943\" font-family=\"Times New Roman,serif\" font-size=\"14.00\">True</text>\r\n",
       "</g>\r\n",
       "<!-- 8 -->\r\n",
       "<g id=\"node9\" class=\"node\"><title>8</title>\r\n",
       "<polygon fill=\"#399de5\" stroke=\"black\" points=\"543.5,-298.5 410.5,-298.5 410.5,-230.5 543.5,-230.5 543.5,-298.5\"/>\r\n",
       "<text text-anchor=\"middle\" x=\"477\" y=\"-283.3\" font-family=\"Times New Roman,serif\" font-size=\"14.00\">gini = 0.0</text>\r\n",
       "<text text-anchor=\"middle\" x=\"477\" y=\"-268.3\" font-family=\"Times New Roman,serif\" font-size=\"14.00\">samples = 462</text>\r\n",
       "<text text-anchor=\"middle\" x=\"477\" y=\"-253.3\" font-family=\"Times New Roman,serif\" font-size=\"14.00\">value = [0, 0, 462, 0]</text>\r\n",
       "<text text-anchor=\"middle\" x=\"477\" y=\"-238.3\" font-family=\"Times New Roman,serif\" font-size=\"14.00\">class = good</text>\r\n",
       "</g>\r\n",
       "<!-- 0&#45;&gt;8 -->\r\n",
       "<g id=\"edge8\" class=\"edge\"><title>0&#45;&gt;8</title>\r\n",
       "<path fill=\"none\" stroke=\"black\" d=\"M422.796,-341.907C430.781,-330.652 439.46,-318.418 447.484,-307.106\"/>\r\n",
       "<polygon fill=\"black\" stroke=\"black\" points=\"450.54,-308.848 453.471,-298.667 444.831,-304.798 450.54,-308.848\"/>\r\n",
       "<text text-anchor=\"middle\" x=\"457.661\" y=\"-319.613\" font-family=\"Times New Roman,serif\" font-size=\"14.00\">False</text>\r\n",
       "</g>\r\n",
       "<!-- 2 -->\r\n",
       "<g id=\"node3\" class=\"node\"><title>2</title>\r\n",
       "<polygon fill=\"#f7d9c3\" stroke=\"black\" points=\"301.5,-187 148.5,-187 148.5,-104 301.5,-104 301.5,-187\"/>\r\n",
       "<text text-anchor=\"middle\" x=\"225\" y=\"-171.8\" font-family=\"Times New Roman,serif\" font-size=\"14.00\">buying &lt;= 2.5</text>\r\n",
       "<text text-anchor=\"middle\" x=\"225\" y=\"-156.8\" font-family=\"Times New Roman,serif\" font-size=\"14.00\">gini = 0.617</text>\r\n",
       "<text text-anchor=\"middle\" x=\"225\" y=\"-141.8\" font-family=\"Times New Roman,serif\" font-size=\"14.00\">samples = 301</text>\r\n",
       "<text text-anchor=\"middle\" x=\"225\" y=\"-126.8\" font-family=\"Times New Roman,serif\" font-size=\"14.00\">value = [157, 27, 94, 23]</text>\r\n",
       "<text text-anchor=\"middle\" x=\"225\" y=\"-111.8\" font-family=\"Times New Roman,serif\" font-size=\"14.00\">class = unacc</text>\r\n",
       "</g>\r\n",
       "<!-- 1&#45;&gt;2 -->\r\n",
       "<g id=\"edge2\" class=\"edge\"><title>1&#45;&gt;2</title>\r\n",
       "<path fill=\"none\" stroke=\"black\" d=\"M281.816,-222.907C275.135,-213.923 267.991,-204.315 261.101,-195.05\"/>\r\n",
       "<polygon fill=\"black\" stroke=\"black\" points=\"263.907,-192.957 255.131,-187.021 258.289,-197.134 263.907,-192.957\"/>\r\n",
       "</g>\r\n",
       "<!-- 5 -->\r\n",
       "<g id=\"node6\" class=\"node\"><title>5</title>\r\n",
       "<polygon fill=\"#91c8f0\" stroke=\"black\" points=\"480,-187 320,-187 320,-104 480,-104 480,-187\"/>\r\n",
       "<text text-anchor=\"middle\" x=\"400\" y=\"-171.8\" font-family=\"Times New Roman,serif\" font-size=\"14.00\">persons &lt;= 2.5</text>\r\n",
       "<text text-anchor=\"middle\" x=\"400\" y=\"-156.8\" font-family=\"Times New Roman,serif\" font-size=\"14.00\">gini = 0.495</text>\r\n",
       "<text text-anchor=\"middle\" x=\"400\" y=\"-141.8\" font-family=\"Times New Roman,serif\" font-size=\"14.00\">samples = 618</text>\r\n",
       "<text text-anchor=\"middle\" x=\"400\" y=\"-126.8\" font-family=\"Times New Roman,serif\" font-size=\"14.00\">value = [150, 28, 411, 29]</text>\r\n",
       "<text text-anchor=\"middle\" x=\"400\" y=\"-111.8\" font-family=\"Times New Roman,serif\" font-size=\"14.00\">class = good</text>\r\n",
       "</g>\r\n",
       "<!-- 1&#45;&gt;5 -->\r\n",
       "<g id=\"edge5\" class=\"edge\"><title>1&#45;&gt;5</title>\r\n",
       "<path fill=\"none\" stroke=\"black\" d=\"M342.531,-222.907C349.289,-213.923 356.515,-204.315 363.484,-195.05\"/>\r\n",
       "<polygon fill=\"black\" stroke=\"black\" points=\"366.309,-197.116 369.523,-187.021 360.715,-192.909 366.309,-197.116\"/>\r\n",
       "</g>\r\n",
       "<!-- 3 -->\r\n",
       "<g id=\"node4\" class=\"node\"><title>3</title>\r\n",
       "<polygon fill=\"#f3c5a4\" stroke=\"black\" points=\"146,-68 0,-68 0,-0 146,-0 146,-68\"/>\r\n",
       "<text text-anchor=\"middle\" x=\"73\" y=\"-52.8\" font-family=\"Times New Roman,serif\" font-size=\"14.00\">gini = 0.622</text>\r\n",
       "<text text-anchor=\"middle\" x=\"73\" y=\"-37.8\" font-family=\"Times New Roman,serif\" font-size=\"14.00\">samples = 149</text>\r\n",
       "<text text-anchor=\"middle\" x=\"73\" y=\"-22.8\" font-family=\"Times New Roman,serif\" font-size=\"14.00\">value = [83, 27, 16, 23]</text>\r\n",
       "<text text-anchor=\"middle\" x=\"73\" y=\"-7.8\" font-family=\"Times New Roman,serif\" font-size=\"14.00\">class = unacc</text>\r\n",
       "</g>\r\n",
       "<!-- 2&#45;&gt;3 -->\r\n",
       "<g id=\"edge3\" class=\"edge\"><title>2&#45;&gt;3</title>\r\n",
       "<path fill=\"none\" stroke=\"black\" d=\"M168.401,-103.726C154.98,-94.0582 140.695,-83.767 127.376,-74.172\"/>\r\n",
       "<polygon fill=\"black\" stroke=\"black\" points=\"129.384,-71.305 119.224,-68.2996 125.292,-76.9846 129.384,-71.305\"/>\r\n",
       "</g>\r\n",
       "<!-- 4 -->\r\n",
       "<g id=\"node5\" class=\"node\"><title>4</title>\r\n",
       "<polygon fill=\"#f5fafe\" stroke=\"black\" points=\"297.5,-68 164.5,-68 164.5,-0 297.5,-0 297.5,-68\"/>\r\n",
       "<text text-anchor=\"middle\" x=\"231\" y=\"-52.8\" font-family=\"Times New Roman,serif\" font-size=\"14.00\">gini = 0.5</text>\r\n",
       "<text text-anchor=\"middle\" x=\"231\" y=\"-37.8\" font-family=\"Times New Roman,serif\" font-size=\"14.00\">samples = 152</text>\r\n",
       "<text text-anchor=\"middle\" x=\"231\" y=\"-22.8\" font-family=\"Times New Roman,serif\" font-size=\"14.00\">value = [74, 0, 78, 0]</text>\r\n",
       "<text text-anchor=\"middle\" x=\"231\" y=\"-7.8\" font-family=\"Times New Roman,serif\" font-size=\"14.00\">class = good</text>\r\n",
       "</g>\r\n",
       "<!-- 2&#45;&gt;4 -->\r\n",
       "<g id=\"edge4\" class=\"edge\"><title>2&#45;&gt;4</title>\r\n",
       "<path fill=\"none\" stroke=\"black\" d=\"M227.234,-103.726C227.684,-95.5175 228.158,-86.8595 228.613,-78.56\"/>\r\n",
       "<polygon fill=\"black\" stroke=\"black\" points=\"232.123,-78.4761 229.175,-68.2996 225.133,-78.0931 232.123,-78.4761\"/>\r\n",
       "</g>\r\n",
       "<!-- 6 -->\r\n",
       "<g id=\"node7\" class=\"node\"><title>6</title>\r\n",
       "<polygon fill=\"#399de5\" stroke=\"black\" points=\"460.5,-68 327.5,-68 327.5,-0 460.5,-0 460.5,-68\"/>\r\n",
       "<text text-anchor=\"middle\" x=\"394\" y=\"-52.8\" font-family=\"Times New Roman,serif\" font-size=\"14.00\">gini = 0.0</text>\r\n",
       "<text text-anchor=\"middle\" x=\"394\" y=\"-37.8\" font-family=\"Times New Roman,serif\" font-size=\"14.00\">samples = 302</text>\r\n",
       "<text text-anchor=\"middle\" x=\"394\" y=\"-22.8\" font-family=\"Times New Roman,serif\" font-size=\"14.00\">value = [0, 0, 302, 0]</text>\r\n",
       "<text text-anchor=\"middle\" x=\"394\" y=\"-7.8\" font-family=\"Times New Roman,serif\" font-size=\"14.00\">class = good</text>\r\n",
       "</g>\r\n",
       "<!-- 5&#45;&gt;6 -->\r\n",
       "<g id=\"edge6\" class=\"edge\"><title>5&#45;&gt;6</title>\r\n",
       "<path fill=\"none\" stroke=\"black\" d=\"M397.766,-103.726C397.316,-95.5175 396.842,-86.8595 396.387,-78.56\"/>\r\n",
       "<polygon fill=\"black\" stroke=\"black\" points=\"399.867,-78.0931 395.825,-68.2996 392.877,-78.4761 399.867,-78.0931\"/>\r\n",
       "</g>\r\n",
       "<!-- 7 -->\r\n",
       "<g id=\"node8\" class=\"node\"><title>7</title>\r\n",
       "<polygon fill=\"#fae6d8\" stroke=\"black\" points=\"639,-68 479,-68 479,-0 639,-0 639,-68\"/>\r\n",
       "<text text-anchor=\"middle\" x=\"559\" y=\"-52.8\" font-family=\"Times New Roman,serif\" font-size=\"14.00\">gini = 0.639</text>\r\n",
       "<text text-anchor=\"middle\" x=\"559\" y=\"-37.8\" font-family=\"Times New Roman,serif\" font-size=\"14.00\">samples = 316</text>\r\n",
       "<text text-anchor=\"middle\" x=\"559\" y=\"-22.8\" font-family=\"Times New Roman,serif\" font-size=\"14.00\">value = [150, 28, 109, 29]</text>\r\n",
       "<text text-anchor=\"middle\" x=\"559\" y=\"-7.8\" font-family=\"Times New Roman,serif\" font-size=\"14.00\">class = unacc</text>\r\n",
       "</g>\r\n",
       "<!-- 5&#45;&gt;7 -->\r\n",
       "<g id=\"edge7\" class=\"edge\"><title>5&#45;&gt;7</title>\r\n",
       "<path fill=\"none\" stroke=\"black\" d=\"M459.206,-103.726C473.317,-94.0078 488.343,-83.6597 502.338,-74.0222\"/>\r\n",
       "<polygon fill=\"black\" stroke=\"black\" points=\"504.65,-76.6797 510.9,-68.1252 500.679,-70.9146 504.65,-76.6797\"/>\r\n",
       "</g>\r\n",
       "</g>\r\n",
       "</svg>\r\n"
      ],
      "text/plain": [
       "<graphviz.files.Source at 0x1d78b957670>"
      ]
     },
     "execution_count": 82,
     "metadata": {},
     "output_type": "execute_result"
    }
   ],
   "source": [
    "import graphviz\n",
    "tree_data = tree.export_graphviz(model, out_file=None, \n",
    "                              feature_names=X_train.columns,  \n",
    "                              class_names=[\"unacc\",\"acc\",\"good\",\"vgood\"],\n",
    "                              filled=True,)\n",
    "\n",
    "graph = graphviz.Source(tree_data, format=\"png\") \n",
    "\n",
    "graph "
   ]
  },
  {
   "cell_type": "code",
   "execution_count": 83,
   "id": "592bbd29",
   "metadata": {},
   "outputs": [
    {
     "data": {
      "text/plain": [
       "'decision_tree_graphivz_gini.png'"
      ]
     },
     "execution_count": 83,
     "metadata": {},
     "output_type": "execute_result"
    }
   ],
   "source": [
    "graph.render(\"decision_tree_graphivz_gini\")"
   ]
  },
  {
   "cell_type": "code",
   "execution_count": 84,
   "id": "19305be4",
   "metadata": {},
   "outputs": [],
   "source": [
    "# Decision Tree Classifier with criterion entropy\n",
    "\n",
    "model_entropy  = DecisionTreeClassifier(criterion=\"entropy\",max_depth=3, random_state=0).fit(X_train,y_train)"
   ]
  },
  {
   "cell_type": "code",
   "execution_count": 85,
   "id": "023f0062",
   "metadata": {},
   "outputs": [],
   "source": [
    "predict_en = model_entropy.predict(X_test)"
   ]
  },
  {
   "cell_type": "code",
   "execution_count": 86,
   "id": "13bae399",
   "metadata": {},
   "outputs": [
    {
     "name": "stdout",
     "output_type": "stream",
     "text": [
      "Model accuracy score wtih criterion entropy: 0.7659\n"
     ]
    }
   ],
   "source": [
    "#check accuracy score\n",
    "print(\"Model accuracy score wtih criterion entropy: {0:0.4f}\".format(accuracy_score(y_test,predict_en)))"
   ]
  },
  {
   "cell_type": "code",
   "execution_count": 87,
   "id": "5cc9bed2",
   "metadata": {},
   "outputs": [],
   "source": [
    "#Compare the train-set and test-set accuracy\n",
    "\n",
    "predict_train_en = model_entropy.predict(X_train)"
   ]
  },
  {
   "cell_type": "code",
   "execution_count": 88,
   "id": "fcb4ebea",
   "metadata": {},
   "outputs": [
    {
     "name": "stdout",
     "output_type": "stream",
     "text": [
      "Training-set accuracy score: 0.7487\n"
     ]
    }
   ],
   "source": [
    "print('Training-set accuracy score: {0:0.4f}'. format(accuracy_score(y_train, predict_train_en)))"
   ]
  },
  {
   "cell_type": "code",
   "execution_count": 89,
   "id": "227a3d04",
   "metadata": {},
   "outputs": [
    {
     "name": "stdout",
     "output_type": "stream",
     "text": [
      "Training set score: 0.7487\n",
      "Test set score: 0.7659\n"
     ]
    }
   ],
   "source": [
    "# print the scores on training and test set\n",
    "\n",
    "print('Training set score: {:.4f}'.format(model_entropy.score(X_train, y_train)))\n",
    "\n",
    "print('Test set score: {:.4f}'.format(model_entropy.score(X_test, y_test)))"
   ]
  },
  {
   "cell_type": "code",
   "execution_count": 90,
   "id": "ed22b1de",
   "metadata": {},
   "outputs": [
    {
     "data": {
      "text/plain": [
       "[Text(418.5, 380.52, 'X[5] <= 2.5\\nentropy = 1.206\\nsamples = 1381\\nvalue = [307, 55, 967, 52]'),\n",
       " Text(334.8, 271.8, 'X[0] <= 2.5\\nentropy = 1.481\\nsamples = 919\\nvalue = [307, 55, 505, 52]'),\n",
       " Text(167.4, 163.07999999999998, 'X[3] <= 1.5\\nentropy = 1.793\\nsamples = 446\\nvalue = [159, 55, 180, 52]'),\n",
       " Text(83.7, 54.360000000000014, 'entropy = 1.679\\nsamples = 149\\nvalue = [83, 27, 16, 23]'),\n",
       " Text(251.10000000000002, 54.360000000000014, 'entropy = 1.625\\nsamples = 297\\nvalue = [76, 28, 164, 29]'),\n",
       " Text(502.20000000000005, 163.07999999999998, 'X[1] <= 3.5\\nentropy = 0.896\\nsamples = 473\\nvalue = [148, 0, 325, 0]'),\n",
       " Text(418.5, 54.360000000000014, 'entropy = 0.976\\nsamples = 362\\nvalue = [148, 0, 214, 0]'),\n",
       " Text(585.9, 54.360000000000014, 'entropy = 0.0\\nsamples = 111\\nvalue = [0, 0, 111, 0]'),\n",
       " Text(502.20000000000005, 271.8, 'entropy = 0.0\\nsamples = 462\\nvalue = [0, 0, 462, 0]')]"
      ]
     },
     "execution_count": 90,
     "metadata": {},
     "output_type": "execute_result"
    },
    {
     "data": {
      "image/png": "[encoded data removed]",
      "text/plain": [
       "<Figure size 864x576 with 1 Axes>"
      ]
     },
     "metadata": {
      "needs_background": "light"
     },
     "output_type": "display_data"
    }
   ],
   "source": [
    "# Visualize the Decision Tree\n",
    "plt.figure(figsize=(12,8))\n",
    "\n",
    "tree.plot_tree(model_entropy.fit(X_train,y_train))"
   ]
  },
  {
   "cell_type": "code",
   "execution_count": 91,
   "id": "41a390da",
   "metadata": {},
   "outputs": [
    {
     "data": {
      "image/svg+xml": [
       "<?xml version=\"1.0\" encoding=\"UTF-8\" standalone=\"no\"?>\r\n",
       "<!DOCTYPE svg PUBLIC \"-//W3C//DTD SVG 1.1//EN\"\r\n",
       " \"http://www.w3.org/Graphics/SVG/1.1/DTD/svg11.dtd\">\r\n",
       "<!-- Generated by graphviz version 2.38.0 (20140413.2041)\r\n",
       " -->\r\n",
       "<!-- Title: Tree Pages: 1 -->\r\n",
       "<svg width=\"643pt\" height=\"433pt\"\r\n",
       " viewBox=\"0.00 0.00 642.50 433.00\" xmlns=\"http://www.w3.org/2000/svg\" xmlns:xlink=\"http://www.w3.org/1999/xlink\">\r\n",
       "<g id=\"graph0\" class=\"graph\" transform=\"scale(1 1) rotate(0) translate(4 429)\">\r\n",
       "<title>Tree</title>\r\n",
       "<polygon fill=\"white\" stroke=\"none\" points=\"-4,4 -4,-429 638.5,-429 638.5,4 -4,4\"/>\r\n",
       "<!-- 0 -->\r\n",
       "<g id=\"node1\" class=\"node\"><title>0</title>\r\n",
       "<polygon fill=\"#85c3ef\" stroke=\"black\" points=\"487,-425 327,-425 327,-342 487,-342 487,-425\"/>\r\n",
       "<text text-anchor=\"middle\" x=\"407\" y=\"-409.8\" font-family=\"Times New Roman,serif\" font-size=\"14.00\">safety &lt;= 2.5</text>\r\n",
       "<text text-anchor=\"middle\" x=\"407\" y=\"-394.8\" font-family=\"Times New Roman,serif\" font-size=\"14.00\">entropy = 1.206</text>\r\n",
       "<text text-anchor=\"middle\" x=\"407\" y=\"-379.8\" font-family=\"Times New Roman,serif\" font-size=\"14.00\">samples = 1381</text>\r\n",
       "<text text-anchor=\"middle\" x=\"407\" y=\"-364.8\" font-family=\"Times New Roman,serif\" font-size=\"14.00\">value = [307, 55, 967, 52]</text>\r\n",
       "<text text-anchor=\"middle\" x=\"407\" y=\"-349.8\" font-family=\"Times New Roman,serif\" font-size=\"14.00\">class = good</text>\r\n",
       "</g>\r\n",
       "<!-- 1 -->\r\n",
       "<g id=\"node2\" class=\"node\"><title>1</title>\r\n",
       "<polygon fill=\"#bfdff7\" stroke=\"black\" points=\"405,-306 245,-306 245,-223 405,-223 405,-306\"/>\r\n",
       "<text text-anchor=\"middle\" x=\"325\" y=\"-290.8\" font-family=\"Times New Roman,serif\" font-size=\"14.00\">buying &lt;= 2.5</text>\r\n",
       "<text text-anchor=\"middle\" x=\"325\" y=\"-275.8\" font-family=\"Times New Roman,serif\" font-size=\"14.00\">entropy = 1.481</text>\r\n",
       "<text text-anchor=\"middle\" x=\"325\" y=\"-260.8\" font-family=\"Times New Roman,serif\" font-size=\"14.00\">samples = 919</text>\r\n",
       "<text text-anchor=\"middle\" x=\"325\" y=\"-245.8\" font-family=\"Times New Roman,serif\" font-size=\"14.00\">value = [307, 55, 505, 52]</text>\r\n",
       "<text text-anchor=\"middle\" x=\"325\" y=\"-230.8\" font-family=\"Times New Roman,serif\" font-size=\"14.00\">class = good</text>\r\n",
       "</g>\r\n",
       "<!-- 0&#45;&gt;1 -->\r\n",
       "<g id=\"edge1\" class=\"edge\"><title>0&#45;&gt;1</title>\r\n",
       "<path fill=\"none\" stroke=\"black\" d=\"M378.551,-341.907C372.317,-333.014 365.656,-323.509 359.223,-314.331\"/>\r\n",
       "<polygon fill=\"black\" stroke=\"black\" points=\"362.005,-312.201 353.399,-306.021 356.272,-316.219 362.005,-312.201\"/>\r\n",
       "<text text-anchor=\"middle\" x=\"349.069\" y=\"-326.943\" font-family=\"Times New Roman,serif\" font-size=\"14.00\">True</text>\r\n",
       "</g>\r\n",
       "<!-- 8 -->\r\n",
       "<g id=\"node9\" class=\"node\"><title>8</title>\r\n",
       "<polygon fill=\"#399de5\" stroke=\"black\" points=\"556.5,-298.5 423.5,-298.5 423.5,-230.5 556.5,-230.5 556.5,-298.5\"/>\r\n",
       "<text text-anchor=\"middle\" x=\"490\" y=\"-283.3\" font-family=\"Times New Roman,serif\" font-size=\"14.00\">entropy = 0.0</text>\r\n",
       "<text text-anchor=\"middle\" x=\"490\" y=\"-268.3\" font-family=\"Times New Roman,serif\" font-size=\"14.00\">samples = 462</text>\r\n",
       "<text text-anchor=\"middle\" x=\"490\" y=\"-253.3\" font-family=\"Times New Roman,serif\" font-size=\"14.00\">value = [0, 0, 462, 0]</text>\r\n",
       "<text text-anchor=\"middle\" x=\"490\" y=\"-238.3\" font-family=\"Times New Roman,serif\" font-size=\"14.00\">class = good</text>\r\n",
       "</g>\r\n",
       "<!-- 0&#45;&gt;8 -->\r\n",
       "<g id=\"edge8\" class=\"edge\"><title>0&#45;&gt;8</title>\r\n",
       "<path fill=\"none\" stroke=\"black\" d=\"M435.796,-341.907C443.781,-330.652 452.46,-318.418 460.484,-307.106\"/>\r\n",
       "<polygon fill=\"black\" stroke=\"black\" points=\"463.54,-308.848 466.471,-298.667 457.831,-304.798 463.54,-308.848\"/>\r\n",
       "<text text-anchor=\"middle\" x=\"470.661\" y=\"-319.613\" font-family=\"Times New Roman,serif\" font-size=\"14.00\">False</text>\r\n",
       "</g>\r\n",
       "<!-- 2 -->\r\n",
       "<g id=\"node3\" class=\"node\"><title>2</title>\r\n",
       "<polygon fill=\"#f1f8fd\" stroke=\"black\" points=\"320,-187 160,-187 160,-104 320,-104 320,-187\"/>\r\n",
       "<text text-anchor=\"middle\" x=\"240\" y=\"-171.8\" font-family=\"Times New Roman,serif\" font-size=\"14.00\">persons &lt;= 1.5</text>\r\n",
       "<text text-anchor=\"middle\" x=\"240\" y=\"-156.8\" font-family=\"Times New Roman,serif\" font-size=\"14.00\">entropy = 1.793</text>\r\n",
       "<text text-anchor=\"middle\" x=\"240\" y=\"-141.8\" font-family=\"Times New Roman,serif\" font-size=\"14.00\">samples = 446</text>\r\n",
       "<text text-anchor=\"middle\" x=\"240\" y=\"-126.8\" font-family=\"Times New Roman,serif\" font-size=\"14.00\">value = [159, 55, 180, 52]</text>\r\n",
       "<text text-anchor=\"middle\" x=\"240\" y=\"-111.8\" font-family=\"Times New Roman,serif\" font-size=\"14.00\">class = good</text>\r\n",
       "</g>\r\n",
       "<!-- 1&#45;&gt;2 -->\r\n",
       "<g id=\"edge2\" class=\"edge\"><title>1&#45;&gt;2</title>\r\n",
       "<path fill=\"none\" stroke=\"black\" d=\"M295.51,-222.907C289.049,-214.014 282.143,-204.509 275.476,-195.331\"/>\r\n",
       "<polygon fill=\"black\" stroke=\"black\" points=\"278.147,-193.054 269.438,-187.021 272.484,-197.168 278.147,-193.054\"/>\r\n",
       "</g>\r\n",
       "<!-- 5 -->\r\n",
       "<g id=\"node6\" class=\"node\"><title>5</title>\r\n",
       "<polygon fill=\"#93caf1\" stroke=\"black\" points=\"484,-187 338,-187 338,-104 484,-104 484,-187\"/>\r\n",
       "<text text-anchor=\"middle\" x=\"411\" y=\"-171.8\" font-family=\"Times New Roman,serif\" font-size=\"14.00\">maint &lt;= 3.5</text>\r\n",
       "<text text-anchor=\"middle\" x=\"411\" y=\"-156.8\" font-family=\"Times New Roman,serif\" font-size=\"14.00\">entropy = 0.896</text>\r\n",
       "<text text-anchor=\"middle\" x=\"411\" y=\"-141.8\" font-family=\"Times New Roman,serif\" font-size=\"14.00\">samples = 473</text>\r\n",
       "<text text-anchor=\"middle\" x=\"411\" y=\"-126.8\" font-family=\"Times New Roman,serif\" font-size=\"14.00\">value = [148, 0, 325, 0]</text>\r\n",
       "<text text-anchor=\"middle\" x=\"411\" y=\"-111.8\" font-family=\"Times New Roman,serif\" font-size=\"14.00\">class = good</text>\r\n",
       "</g>\r\n",
       "<!-- 1&#45;&gt;5 -->\r\n",
       "<g id=\"edge5\" class=\"edge\"><title>1&#45;&gt;5</title>\r\n",
       "<path fill=\"none\" stroke=\"black\" d=\"M354.837,-222.907C361.374,-214.014 368.361,-204.509 375.107,-195.331\"/>\r\n",
       "<polygon fill=\"black\" stroke=\"black\" points=\"378.113,-197.151 381.215,-187.021 372.473,-193.005 378.113,-197.151\"/>\r\n",
       "</g>\r\n",
       "<!-- 3 -->\r\n",
       "<g id=\"node4\" class=\"node\"><title>3</title>\r\n",
       "<polygon fill=\"#f3c5a4\" stroke=\"black\" points=\"146,-68 0,-68 0,-0 146,-0 146,-68\"/>\r\n",
       "<text text-anchor=\"middle\" x=\"73\" y=\"-52.8\" font-family=\"Times New Roman,serif\" font-size=\"14.00\">entropy = 1.679</text>\r\n",
       "<text text-anchor=\"middle\" x=\"73\" y=\"-37.8\" font-family=\"Times New Roman,serif\" font-size=\"14.00\">samples = 149</text>\r\n",
       "<text text-anchor=\"middle\" x=\"73\" y=\"-22.8\" font-family=\"Times New Roman,serif\" font-size=\"14.00\">value = [83, 27, 16, 23]</text>\r\n",
       "<text text-anchor=\"middle\" x=\"73\" y=\"-7.8\" font-family=\"Times New Roman,serif\" font-size=\"14.00\">class = unacc</text>\r\n",
       "</g>\r\n",
       "<!-- 2&#45;&gt;3 -->\r\n",
       "<g id=\"edge3\" class=\"edge\"><title>2&#45;&gt;3</title>\r\n",
       "<path fill=\"none\" stroke=\"black\" d=\"M177.815,-103.726C162.854,-93.9161 146.914,-83.4644 132.098,-73.7496\"/>\r\n",
       "<polygon fill=\"black\" stroke=\"black\" points=\"133.802,-70.6816 123.52,-68.1252 129.963,-76.5355 133.802,-70.6816\"/>\r\n",
       "</g>\r\n",
       "<!-- 4 -->\r\n",
       "<g id=\"node5\" class=\"node\"><title>4</title>\r\n",
       "<polygon fill=\"#b0d8f5\" stroke=\"black\" points=\"317.5,-68 164.5,-68 164.5,-0 317.5,-0 317.5,-68\"/>\r\n",
       "<text text-anchor=\"middle\" x=\"241\" y=\"-52.8\" font-family=\"Times New Roman,serif\" font-size=\"14.00\">entropy = 1.625</text>\r\n",
       "<text text-anchor=\"middle\" x=\"241\" y=\"-37.8\" font-family=\"Times New Roman,serif\" font-size=\"14.00\">samples = 297</text>\r\n",
       "<text text-anchor=\"middle\" x=\"241\" y=\"-22.8\" font-family=\"Times New Roman,serif\" font-size=\"14.00\">value = [76, 28, 164, 29]</text>\r\n",
       "<text text-anchor=\"middle\" x=\"241\" y=\"-7.8\" font-family=\"Times New Roman,serif\" font-size=\"14.00\">class = good</text>\r\n",
       "</g>\r\n",
       "<!-- 2&#45;&gt;4 -->\r\n",
       "<g id=\"edge4\" class=\"edge\"><title>2&#45;&gt;4</title>\r\n",
       "<path fill=\"none\" stroke=\"black\" d=\"M240.372,-103.726C240.447,-95.5175 240.526,-86.8595 240.602,-78.56\"/>\r\n",
       "<polygon fill=\"black\" stroke=\"black\" points=\"244.104,-78.3312 240.696,-68.2996 237.105,-78.2672 244.104,-78.3312\"/>\r\n",
       "</g>\r\n",
       "<!-- 6 -->\r\n",
       "<g id=\"node7\" class=\"node\"><title>6</title>\r\n",
       "<polygon fill=\"#c2e1f7\" stroke=\"black\" points=\"483,-68 337,-68 337,-0 483,-0 483,-68\"/>\r\n",
       "<text text-anchor=\"middle\" x=\"410\" y=\"-52.8\" font-family=\"Times New Roman,serif\" font-size=\"14.00\">entropy = 0.976</text>\r\n",
       "<text text-anchor=\"middle\" x=\"410\" y=\"-37.8\" font-family=\"Times New Roman,serif\" font-size=\"14.00\">samples = 362</text>\r\n",
       "<text text-anchor=\"middle\" x=\"410\" y=\"-22.8\" font-family=\"Times New Roman,serif\" font-size=\"14.00\">value = [148, 0, 214, 0]</text>\r\n",
       "<text text-anchor=\"middle\" x=\"410\" y=\"-7.8\" font-family=\"Times New Roman,serif\" font-size=\"14.00\">class = good</text>\r\n",
       "</g>\r\n",
       "<!-- 5&#45;&gt;6 -->\r\n",
       "<g id=\"edge6\" class=\"edge\"><title>5&#45;&gt;6</title>\r\n",
       "<path fill=\"none\" stroke=\"black\" d=\"M410.628,-103.726C410.553,-95.5175 410.474,-86.8595 410.398,-78.56\"/>\r\n",
       "<polygon fill=\"black\" stroke=\"black\" points=\"413.895,-78.2672 410.304,-68.2996 406.896,-78.3312 413.895,-78.2672\"/>\r\n",
       "</g>\r\n",
       "<!-- 7 -->\r\n",
       "<g id=\"node8\" class=\"node\"><title>7</title>\r\n",
       "<polygon fill=\"#399de5\" stroke=\"black\" points=\"634.5,-68 501.5,-68 501.5,-0 634.5,-0 634.5,-68\"/>\r\n",
       "<text text-anchor=\"middle\" x=\"568\" y=\"-52.8\" font-family=\"Times New Roman,serif\" font-size=\"14.00\">entropy = 0.0</text>\r\n",
       "<text text-anchor=\"middle\" x=\"568\" y=\"-37.8\" font-family=\"Times New Roman,serif\" font-size=\"14.00\">samples = 111</text>\r\n",
       "<text text-anchor=\"middle\" x=\"568\" y=\"-22.8\" font-family=\"Times New Roman,serif\" font-size=\"14.00\">value = [0, 0, 111, 0]</text>\r\n",
       "<text text-anchor=\"middle\" x=\"568\" y=\"-7.8\" font-family=\"Times New Roman,serif\" font-size=\"14.00\">class = good</text>\r\n",
       "</g>\r\n",
       "<!-- 5&#45;&gt;7 -->\r\n",
       "<g id=\"edge7\" class=\"edge\"><title>5&#45;&gt;7</title>\r\n",
       "<path fill=\"none\" stroke=\"black\" d=\"M469.461,-103.726C483.323,-94.0582 498.078,-83.767 511.836,-74.172\"/>\r\n",
       "<polygon fill=\"black\" stroke=\"black\" points=\"514.055,-76.891 520.255,-68.2996 510.051,-71.1495 514.055,-76.891\"/>\r\n",
       "</g>\r\n",
       "</g>\r\n",
       "</svg>\r\n"
      ],
      "text/plain": [
       "<graphviz.files.Source at 0x1d78b9bfac0>"
      ]
     },
     "execution_count": 91,
     "metadata": {},
     "output_type": "execute_result"
    }
   ],
   "source": [
    "import graphviz\n",
    "tree_data = tree.export_graphviz(model_entropy, out_file=None, \n",
    "                              feature_names=X_train.columns,  \n",
    "                              class_names=[\"unacc\",\"acc\",\"good\",\"vgood\"],\n",
    "                              filled=True,)\n",
    "\n",
    "graph = graphviz.Source(tree_data, format=\"png\") \n",
    "\n",
    "graph "
   ]
  },
  {
   "cell_type": "code",
   "execution_count": 92,
   "id": "83926319",
   "metadata": {},
   "outputs": [
    {
     "data": {
      "text/plain": [
       "'decision_tree_graphivz_entropy.png'"
      ]
     },
     "execution_count": 92,
     "metadata": {},
     "output_type": "execute_result"
    }
   ],
   "source": [
    "#Save the tree\n",
    "graph.render(\"decision_tree_graphivz_entropy\")"
   ]
  },
  {
   "cell_type": "code",
   "execution_count": 94,
   "id": "af9be86e",
   "metadata": {},
   "outputs": [
    {
     "name": "stdout",
     "output_type": "stream",
     "text": [
      "Confusion Matrix \n",
      " [[ 25   0  52   0]\n",
      " [  9   0   5   0]\n",
      " [  2   0 240   0]\n",
      " [  7   0   6   0]]\n"
     ]
    }
   ],
   "source": [
    "# Analysis the Confusion matrix\n",
    "\n",
    "from sklearn.metrics import confusion_matrix\n",
    "\n",
    "cm = confusion_matrix(y_test,predict_en)\n",
    "print(\"Confusion Matrix \\n\",cm)"
   ]
  },
  {
   "cell_type": "code",
   "execution_count": 95,
   "id": "7af54b42",
   "metadata": {},
   "outputs": [
    {
     "name": "stdout",
     "output_type": "stream",
     "text": [
      "              precision    recall  f1-score   support\n",
      "\n",
      "         acc       0.58      0.32      0.42        77\n",
      "        good       0.00      0.00      0.00        14\n",
      "       unacc       0.79      0.99      0.88       242\n",
      "       vgood       0.00      0.00      0.00        13\n",
      "\n",
      "    accuracy                           0.77       346\n",
      "   macro avg       0.34      0.33      0.32       346\n",
      "weighted avg       0.68      0.77      0.71       346\n",
      "\n"
     ]
    },
    {
     "name": "stderr",
     "output_type": "stream",
     "text": [
      "C:\\Users\\RAKORT\\anaconda3\\envs\\newenv\\lib\\site-packages\\sklearn\\metrics\\_classification.py:1248: UndefinedMetricWarning: Precision and F-score are ill-defined and being set to 0.0 in labels with no predicted samples. Use `zero_division` parameter to control this behavior.\n",
      "  _warn_prf(average, modifier, msg_start, len(result))\n",
      "C:\\Users\\RAKORT\\anaconda3\\envs\\newenv\\lib\\site-packages\\sklearn\\metrics\\_classification.py:1248: UndefinedMetricWarning: Precision and F-score are ill-defined and being set to 0.0 in labels with no predicted samples. Use `zero_division` parameter to control this behavior.\n",
      "  _warn_prf(average, modifier, msg_start, len(result))\n",
      "C:\\Users\\RAKORT\\anaconda3\\envs\\newenv\\lib\\site-packages\\sklearn\\metrics\\_classification.py:1248: UndefinedMetricWarning: Precision and F-score are ill-defined and being set to 0.0 in labels with no predicted samples. Use `zero_division` parameter to control this behavior.\n",
      "  _warn_prf(average, modifier, msg_start, len(result))\n"
     ]
    }
   ],
   "source": [
    "# Analysis the classification report\n",
    "\n",
    "from sklearn.metrics import classification_report\n",
    "\n",
    "print(classification_report(y_test,predict_en))"
   ]
  },
  {
   "cell_type": "code",
   "execution_count": null,
   "id": "d2196b18",
   "metadata": {},
   "outputs": [],
   "source": []
  }
 ],
 "metadata": {
  "kernelspec": {
   "display_name": "Python 3",
   "language": "python",
   "name": "python3"
  },
  "language_info": {
   "codemirror_mode": {
    "name": "ipython",
    "version": 3
   },
   "file_extension": ".py",
   "mimetype": "text/x-python",
   "name": "python",
   "nbconvert_exporter": "python",
   "pygments_lexer": "ipython3",
   "version": "3.8.11"
  }
 },
 "nbformat": 4,
 "nbformat_minor": 5
}
